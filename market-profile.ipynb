{
 "cells": [
  {
   "cell_type": "code",
   "execution_count": 9,
   "metadata": {},
   "outputs": [],
   "source": [
    "import csv\n",
    "\n",
    "import pandas as pd\n",
    "\n",
    "import numpy as np\n",
    "%matplotlib inline\n",
    "import collections\n",
    "\n",
    "from datetime import datetime,date,time\n",
    "#from wordcloud import WordCloud\n",
    "\n",
    "\n",
    "import seaborn as sns\n",
    "import matplotlib.pyplot as plot\n",
    "\n",
    "from sklearn.preprocessing import OneHotEncoder,LabelEncoder\n",
    "from sklearn.tree import DecisionTreeRegressor\n",
    "from sklearn.linear_model import LogisticRegression\n",
    "\n",
    "from collections import defaultdict\n",
    "    \n",
    "import warnings\n",
    "warnings.filterwarnings(\"ignore\", category=DeprecationWarning)"
   ]
  },
  {
   "cell_type": "code",
   "execution_count": null,
   "metadata": {},
   "outputs": [],
   "source": [
    "def Market_Profile_G(df, frequency='30Min', debug=0):\n",
    "    #intialize dictionary and char 'A, B, C..'\n",
    "    md = defaultdict(str)\n",
    "    mi = defaultdict(int)\n",
    "    char_a=64\n",
    "    #make a group based on Timestamp with frequency 30min\n",
    "    TGroups=df.groupby([pd.Grouper(key='DateTime', freq=frequency)])\n",
    "    #iterate over each group and add to dictionary, dictonary keys are 'High' and 'Low' of each group, rounded and values are char A, B incremented for each period(freq group), default 30 min\n",
    "    #since we grouped based on freq, for each group increment the char i.e +1\n",
    "    for t,g in TGroups:\n",
    "        char_a +=1\n",
    "        #skip non alphabets\n",
    "        if char_a == 91:\n",
    "            char_a=97\n",
    "        min_price=np.round(g.Low.min())\n",
    "        max_price=np.round(g.High.max())\n",
    "        if debug==1:\n",
    "            print(g.Low.min(), g.High.max())\n",
    "        for price in range(int(min_price), int(max_price+1)):\n",
    "            md[price]+=(chr(char_a))\n",
    "            #if debug==1:\n",
    "            #    print(int(min_price), int(max_price),char_a)\n",
    "\n",
    "    return sorted(md.items(), key=lambda k:k,reverse=1)\n"
   ]
  },
  {
   "cell_type": "code",
   "execution_count": null,
   "metadata": {},
   "outputs": [],
   "source": [
    "def func(x):\n",
    "    try:\n",
    "        s=str(x.Date)+':'+str(x.Time)\n",
    "        return datetime.strptime(s, \"%Y%m%d:%H:%M\")\n",
    "    except:\n",
    "        return pd.NaT"
   ]
  },
  {
   "cell_type": "code",
   "execution_count": null,
   "metadata": {},
   "outputs": [],
   "source": [
    "data = pd.read_csv(\"data/KOTAKBANK-22Jan.txt\")"
   ]
  },
  {
   "cell_type": "code",
   "execution_count": null,
   "metadata": {},
   "outputs": [],
   "source": [
    "data['DateTime']=data.apply(func,axis=1)"
   ]
  },
  {
   "cell_type": "code",
   "execution_count": null,
   "metadata": {},
   "outputs": [],
   "source": [
    "df=data[['DateTime', 'Open', 'High', 'Low', 'Close', 'Volume',]]"
   ]
  },
  {
   "cell_type": "code",
   "execution_count": null,
   "metadata": {},
   "outputs": [],
   "source": [
    "# Reset matplotlib to non-interactive\n",
    "%matplotlib inline\n",
    "\n",
    "fig = plot.figure(figsize=(16, 8))\n",
    "ax = fig.add_subplot(111)\n",
    "\n",
    "ax.scatter(data.Time,data.Close,cmap='rainbow', linewidth=1);"
   ]
  },
  {
   "cell_type": "code",
   "execution_count": null,
   "metadata": {},
   "outputs": [],
   "source": [
    "md=Market_Profile_G(df,frequency='30Min',debug=0)"
   ]
  },
  {
   "cell_type": "code",
   "execution_count": null,
   "metadata": {},
   "outputs": [],
   "source": [
    "mi=defaultdict(list)\n",
    "TGroups=df.groupby([pd.Grouper(key='DateTime', freq='30Min')])\n",
    "#iterate over each group and add to dictionary, dictonary keys are 'High' and 'Low' of each group, rounded and values are char A, B incremented for each period(freq group), default 30 min\n",
    "#since we grouped based on freq, for each group increment the char i.e +1\n",
    "min_price=np.round(df.min().Low)\n",
    "max_price=np.round(df.max().High)\n",
    "for t,g in TGroups:\n",
    "    g_min_price=np.round(g.Low.min())\n",
    "    g_max_price=np.round(g.High.max())\n",
    "    for price in range(int(min_price), int(max_price+1)):\n",
    "        if (price > g_max_price) or (price < g_min_price):\n",
    "            mi[price].append(0)\n",
    "        else:\n",
    "            mi[price].append(0.1)\n"
   ]
  },
  {
   "cell_type": "code",
   "execution_count": null,
   "metadata": {},
   "outputs": [],
   "source": [
    "md"
   ]
  },
  {
   "cell_type": "code",
   "execution_count": null,
   "metadata": {},
   "outputs": [],
   "source": [
    "df['Close_R']=df.apply(lambda x: round(x.Close) , axis=1)"
   ]
  },
  {
   "cell_type": "code",
   "execution_count": null,
   "metadata": {},
   "outputs": [],
   "source": [
    "#scale volume down to 0 to 5\n",
    "v=df.groupby(['Close_R'])['Volume'].sum()/1000000"
   ]
  },
  {
   "cell_type": "code",
   "execution_count": null,
   "metadata": {},
   "outputs": [],
   "source": [
    "import seaborn as sns\n",
    "%matplotlib inline\n",
    "\n",
    "m=np.asmatrix(np.stack(mi.values()))\n",
    "\n",
    "pdata=np.asarray(m.transpose())\n",
    "start = min(mi.keys())\n",
    "ind = np.arange(start,start+pdata.shape[1])\n",
    "\n",
    "left = np.vstack((np.zeros((pdata.shape[1],), dtype=pdata.dtype),\n",
    "                    np.cumsum(pdata, axis=0)[:-1]))\n",
    "#colors = ('#ff3333', '#33ff33', '#3333ff', '#33ffff')\n",
    "colors = sns.color_palette(\"Blues_d\", n_colors=pdata.shape[0])\n",
    "\n",
    "fig, ax = plot.subplots()\n",
    "\n",
    "#ax=v.plot(kind='barh',color=\"gray\")\n",
    "#ax.invert_yaxis()\n",
    "#ax1 = ax.twinx()\n",
    "\n",
    "ax.set_xlim(0,4)\n",
    "plot.xticks([], [])\n",
    "\n",
    "ax.figure.set_size_inches(10,8)\n",
    "ax.yaxis.label.set_visible(False)\n",
    "\n",
    "for dat, col, left in zip(pdata, colors, left):\n",
    "    #ax1.barh(ind, dat, color=col, left=left)\n",
    "    ax.barh(ind, dat, color=col, left=left)"
   ]
  },
  {
   "cell_type": "code",
   "execution_count": null,
   "metadata": {},
   "outputs": [],
   "source": [
    "import seaborn as sns\n",
    "%matplotlib inline\n",
    "\n",
    "m=np.asmatrix(np.stack(mi.values()))\n",
    "\n",
    "pdata=np.asarray(m.transpose())\n",
    "start = min(mi.keys())\n",
    "ind = np.arange(start,start+pdata.shape[1])\n",
    "\n",
    "left = np.vstack((np.zeros((pdata.shape[1],), dtype=pdata.dtype),\n",
    "                    np.cumsum(pdata, axis=0)[:-1]))\n",
    "#colors = ('#ff3333', '#33ff33', '#3333ff', '#33ffff')\n",
    "colors = sns.color_palette(\"Blues_d\", n_colors=pdata.shape[0])\n",
    "\n",
    "#fig, ax = plot.subplots()\n",
    "\n",
    "ax=v.plot(kind='barh',color=\"gray\")\n",
    "#ax.invert_yaxis()\n",
    "ax1 = ax.twinx()\n",
    "\n",
    "ax1.set_xlim(0,4)\n",
    "plot.xticks([], [])\n",
    "\n",
    "ax.figure.set_size_inches(15,8)\n",
    "ax.yaxis.label.set_visible(False)\n",
    "\n",
    "for dat, col, left in zip(pdata, colors, left):\n",
    "    ax1.barh(ind, dat, color=col, left=left)\n"
   ]
  },
  {
   "cell_type": "code",
   "execution_count": null,
   "metadata": {},
   "outputs": [],
   "source": [
    "sns.set(style=\"ticks\")"
   ]
  },
  {
   "cell_type": "code",
   "execution_count": null,
   "metadata": {},
   "outputs": [],
   "source": [
    "data.head()"
   ]
  },
  {
   "cell_type": "code",
   "execution_count": null,
   "metadata": {},
   "outputs": [],
   "source": [
    "import plotly.graph_objects as go"
   ]
  },
  {
   "cell_type": "code",
   "execution_count": null,
   "metadata": {},
   "outputs": [],
   "source": [
    "fig = go.Figure(data=[go.Candlestick(\n",
    "    x=data.DateTime,\n",
    "    open=data.Open, high=data.High,\n",
    "    low=data.Low, close=data.Close,\n",
    "    increasing_line_color= 'green', decreasing_line_color= 'red'\n",
    ")])\n",
    "\n",
    "fig.show()"
   ]
  },
  {
   "cell_type": "code",
   "execution_count": null,
   "metadata": {},
   "outputs": [],
   "source": [
    "TGroups=df.groupby([pd.Grouper(key='DateTime', freq='30Min')])"
   ]
  },
  {
   "cell_type": "code",
   "execution_count": null,
   "metadata": {},
   "outputs": [],
   "source": [
    "fig = go.Figure(data=[go.Candlestick(\n",
    "    x=data.DateTime,\n",
    "    open=data.Open, high=data.High,\n",
    "    low=data.Low, close=data.Close,\n",
    "    increasing_line_color= 'green', decreasing_line_color= 'red'\n",
    ")])\n",
    "\n",
    "fig.show()"
   ]
  },
  {
   "cell_type": "code",
   "execution_count": null,
   "metadata": {},
   "outputs": [],
   "source": [
    "fig = go.Figure(data=[go.Candlestick(\n",
    "    x=data.DateTime,\n",
    "    open=data.Open, high=data.High,\n",
    "    low=data.Low, close=data.Close,\n",
    "    increasing_line_color= 'green', decreasing_line_color= 'red'\n",
    ")])\n",
    "\n",
    "fig.update_layout(xaxis_rangeslider_visible=False)\n",
    "fig.show()"
   ]
  },
  {
   "cell_type": "code",
   "execution_count": null,
   "metadata": {},
   "outputs": [],
   "source": [
    "fig = go.Figure(data=[go.Ohlc(\n",
    "    x=data.DateTime,\n",
    "    open=data.Open, high=data.High,\n",
    "    low=data.Low, close=data.Close,\n",
    "    increasing_line_color= 'green', decreasing_line_color= 'red'\n",
    ")])\n",
    "\n",
    "fig.update_layout(xaxis_rangeslider_visible=False)\n",
    "fig.show()"
   ]
  },
  {
   "cell_type": "code",
   "execution_count": null,
   "metadata": {},
   "outputs": [],
   "source": [
    "data = pd.read_csv(\"nse-infy20-03-2020.txt\", names=['DateTime', 'Close', 'Volume',])"
   ]
  },
  {
   "cell_type": "code",
   "execution_count": null,
   "metadata": {},
   "outputs": [],
   "source": [
    "data[\"DateTime\"] = pd.to_datetime(data['DateTime'])"
   ]
  },
  {
   "cell_type": "code",
   "execution_count": 10,
   "metadata": {},
   "outputs": [],
   "source": [
    "data = pd.read_csv(\"nse-infy20-03-2020.txt\", names=['DateTime', 'Close', 'Volume',])\n",
    "data[\"DateTime\"] = pd.to_datetime(data['DateTime'])\n",
    "md=defaultdict(list)\n",
    "char_a=64\n",
    "debug=1\n",
    "grange = date.today().strftime(\"%d-%m-%Y\")+' 09:15:00'\n",
    "dt=pd.date_range(grange, periods=14, freq='30Min')\n",
    "for i in range(0,13):\n",
    "    sdf = (data['DateTime'] > dt[i]) & (data[\"DateTime\"] < dt[i+1])\n",
    "    g=data.loc[sdf]\n",
    "    if g.empty:\n",
    "        continue\n",
    "    char_a +=1\n",
    "    #skip non alphabets\n",
    "    if char_a == 91:\n",
    "        char_a=97\n",
    "    min_price=np.round(g.Close.min())\n",
    "    max_price=np.round(g.Close.max())\n",
    "    for price in range(int(min_price), int(max_price+1),2):\n",
    "        md[price]+=(chr(char_a))\n",
    "        #print(price)\n",
    "md=sorted(md.items(), key=lambda k:k,reverse=1)"
   ]
  },
  {
   "cell_type": "code",
   "execution_count": 11,
   "metadata": {},
   "outputs": [
    {
     "name": "stdout",
     "output_type": "stream",
     "text": [
      "603 ['H']\n",
      "601 ['G', 'H']\n",
      "599 ['G', 'H']\n",
      "597 ['G']\n",
      "596 ['F']\n",
      "595 ['G']\n",
      "594 ['F']\n",
      "593 ['G']\n",
      "592 ['F']\n",
      "590 ['F']\n",
      "588 ['E']\n",
      "586 ['E']\n",
      "584 ['E']\n",
      "583 ['D']\n",
      "582 ['E']\n",
      "581 ['D']\n",
      "580 ['B']\n",
      "579 ['C', 'D']\n",
      "578 ['B']\n",
      "577 ['C']\n",
      "576 ['B']\n",
      "574 ['B']\n",
      "573 ['A']\n",
      "572 ['B']\n",
      "571 ['A']\n",
      "569 ['A']\n",
      "567 ['A']\n",
      "565 ['A']\n"
     ]
    }
   ],
   "source": [
    "# Iterate over items in dict and print line by line5\n",
    "for key, value in md:\n",
    "    print(key, value) "
   ]
  },
  {
   "cell_type": "code",
   "execution_count": 12,
   "metadata": {},
   "outputs": [
    {
     "data": {
      "image/png": "[encoded data removed]",
      "text/plain": [
       "<Figure size 432x288 with 1 Axes>"
      ]
     },
     "metadata": {
      "needs_background": "light"
     },
     "output_type": "display_data"
    }
   ],
   "source": [
    "import numpy as np\n",
    "import matplotlib.pyplot as plt\n",
    "\n",
    "fig, ax = plt.subplots()\n",
    "\n",
    "t = np.arange(0.0, 5.0, 0.01)\n",
    "s = np.cos(2*np.pi*t)\n",
    "line, = ax.plot(t, t, lw=1)\n",
    "\n",
    "ax.annotate('local max', xy=(2, 1), xytext=(1, -1.5))\n",
    "ax.annotate('local max', xy=(2, 1), xytext=(1, 1.5))\n",
    "ax.annotate('local max', xy=(2, 1), xytext=(1, -0.5))\n",
    "ax.annotate('local max', xy=(2, 1), xytext=(1, 0.5))\n",
    "ax.set_ylim(-2, 2)\n",
    "plt.show()"
   ]
  },
  {
   "cell_type": "code",
   "execution_count": null,
   "metadata": {},
   "outputs": [],
   "source": []
  }
 ],
 "metadata": {
  "kernelspec": {
   "display_name": "Python 3",
   "language": "python",
   "name": "python3"
  },
  "language_info": {
   "codemirror_mode": {
    "name": "ipython",
    "version": 3
   },
   "file_extension": ".py",
   "mimetype": "text/x-python",
   "name": "python",
   "nbconvert_exporter": "python",
   "pygments_lexer": "ipython3",
   "version": "3.7.6"
  }
 },
 "nbformat": 4,
 "nbformat_minor": 2
}
